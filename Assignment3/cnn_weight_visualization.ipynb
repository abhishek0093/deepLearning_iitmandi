{
 "cells": [
  {
   "cell_type": "code",
   "execution_count": 1,
   "id": "9ef4cc3b",
   "metadata": {},
   "outputs": [],
   "source": [
    "import matplotlib.pyplot as plt\n",
    "import numpy as np\n",
    "%matplotlib notebook"
   ]
  },
  {
   "cell_type": "code",
   "execution_count": 3,
   "id": "63c13596",
   "metadata": {},
   "outputs": [],
   "source": [
    "#inputs\n",
    "w1=6\n",
    "h1=6\n",
    "input_d = w1*h1"
   ]
  },
  {
   "cell_type": "code",
   "execution_count": 4,
   "id": "a3f16c28",
   "metadata": {},
   "outputs": [],
   "source": [
    "#filters\n",
    "f=3\n",
    "#dimension = f*f"
   ]
  },
  {
   "cell_type": "code",
   "execution_count": 22,
   "id": "0058565c",
   "metadata": {},
   "outputs": [],
   "source": [
    "#Weights matrix\n",
    "#dimension inputs * outputs\n",
    "#weight=[a,b,c,0,0,0,d,e,f,0,0,0,g,h,i] - a,b,c---filter first row ; no. of 0,0,0 --- w1-f (gap between  \n",
    "# 1st filter and end of input )\n",
    "\n",
    "w_filter=np.array([[1,2,3],\n",
    "         [4,5,6],\n",
    "         [7,8,9]])\n",
    "\n",
    "zero_gap=np.zeros(w1-f)\n",
    "weights=[]\n",
    "for i,w in enumerate(w_filter):\n",
    "    if i<len(w_filter)-1:\n",
    "        weights.extend(w)\n",
    "        weights.extend(zero_gap)\n",
    "    else:\n",
    "        weights.extend(w)\n",
    "    \n",
    "    \n",
    "weights=np.array(weights)\n"
   ]
  },
  {
   "cell_type": "code",
   "execution_count": 90,
   "id": "f8c29103",
   "metadata": {},
   "outputs": [],
   "source": [
    "no_hidden_nodes=(w1-f+1)*(h1-f+1)\n",
    "weights_conv=np.zeros((no_hidden_nodes,w1*h1))"
   ]
  },
  {
   "cell_type": "code",
   "execution_count": 91,
   "id": "eaf5c31e",
   "metadata": {},
   "outputs": [
    {
     "data": {
      "text/plain": [
       "(16, 36)"
      ]
     },
     "execution_count": 91,
     "metadata": {},
     "output_type": "execute_result"
    }
   ],
   "source": [
    "weights_conv.shape"
   ]
  },
  {
   "cell_type": "code",
   "execution_count": 92,
   "id": "a7b19711",
   "metadata": {},
   "outputs": [],
   "source": [
    "count=0\n",
    "index=0\n",
    "for i in range(no_hidden_nodes):\n",
    "    \n",
    "    if (i+1)%(w1-f+1)==0:\n",
    "        count+=1\n",
    "        weights_conv[i][index:index+len(weights)] = weights\n",
    "        index+=w1-f\n",
    "    else:\n",
    "        count+=1\n",
    "        weights_conv[i][index:index+len(weights)] = weights\n",
    "        index+=1\n",
    "        "
   ]
  },
  {
   "cell_type": "code",
   "execution_count": 93,
   "id": "395a5f0c",
   "metadata": {},
   "outputs": [
    {
     "data": {
      "text/plain": [
       "array([[1., 2., 3., 0., 0., 0., 4., 5., 6., 0., 0., 0., 7., 8., 9., 0.,\n",
       "        0., 0., 0., 0., 0., 0., 0., 0., 0., 0., 0., 0., 0., 0., 0., 0.,\n",
       "        0., 0., 0., 0.],\n",
       "       [0., 1., 2., 3., 0., 0., 0., 4., 5., 6., 0., 0., 0., 7., 8., 9.,\n",
       "        0., 0., 0., 0., 0., 0., 0., 0., 0., 0., 0., 0., 0., 0., 0., 0.,\n",
       "        0., 0., 0., 0.],\n",
       "       [0., 0., 1., 2., 3., 0., 0., 0., 4., 5., 6., 0., 0., 0., 7., 8.,\n",
       "        9., 0., 0., 0., 0., 0., 0., 0., 0., 0., 0., 0., 0., 0., 0., 0.,\n",
       "        0., 0., 0., 0.],\n",
       "       [0., 0., 0., 1., 2., 3., 0., 0., 0., 4., 5., 6., 0., 0., 0., 7.,\n",
       "        8., 9., 0., 0., 0., 0., 0., 0., 0., 0., 0., 0., 0., 0., 0., 0.,\n",
       "        0., 0., 0., 0.],\n",
       "       [0., 0., 0., 0., 0., 0., 1., 2., 3., 0., 0., 0., 4., 5., 6., 0.,\n",
       "        0., 0., 7., 8., 9., 0., 0., 0., 0., 0., 0., 0., 0., 0., 0., 0.,\n",
       "        0., 0., 0., 0.],\n",
       "       [0., 0., 0., 0., 0., 0., 0., 1., 2., 3., 0., 0., 0., 4., 5., 6.,\n",
       "        0., 0., 0., 7., 8., 9., 0., 0., 0., 0., 0., 0., 0., 0., 0., 0.,\n",
       "        0., 0., 0., 0.],\n",
       "       [0., 0., 0., 0., 0., 0., 0., 0., 1., 2., 3., 0., 0., 0., 4., 5.,\n",
       "        6., 0., 0., 0., 7., 8., 9., 0., 0., 0., 0., 0., 0., 0., 0., 0.,\n",
       "        0., 0., 0., 0.],\n",
       "       [0., 0., 0., 0., 0., 0., 0., 0., 0., 1., 2., 3., 0., 0., 0., 4.,\n",
       "        5., 6., 0., 0., 0., 7., 8., 9., 0., 0., 0., 0., 0., 0., 0., 0.,\n",
       "        0., 0., 0., 0.],\n",
       "       [0., 0., 0., 0., 0., 0., 0., 0., 0., 0., 0., 0., 1., 2., 3., 0.,\n",
       "        0., 0., 4., 5., 6., 0., 0., 0., 7., 8., 9., 0., 0., 0., 0., 0.,\n",
       "        0., 0., 0., 0.],\n",
       "       [0., 0., 0., 0., 0., 0., 0., 0., 0., 0., 0., 0., 0., 1., 2., 3.,\n",
       "        0., 0., 0., 4., 5., 6., 0., 0., 0., 7., 8., 9., 0., 0., 0., 0.,\n",
       "        0., 0., 0., 0.],\n",
       "       [0., 0., 0., 0., 0., 0., 0., 0., 0., 0., 0., 0., 0., 0., 1., 2.,\n",
       "        3., 0., 0., 0., 4., 5., 6., 0., 0., 0., 7., 8., 9., 0., 0., 0.,\n",
       "        0., 0., 0., 0.],\n",
       "       [0., 0., 0., 0., 0., 0., 0., 0., 0., 0., 0., 0., 0., 0., 0., 1.,\n",
       "        2., 3., 0., 0., 0., 4., 5., 6., 0., 0., 0., 7., 8., 9., 0., 0.,\n",
       "        0., 0., 0., 0.],\n",
       "       [0., 0., 0., 0., 0., 0., 0., 0., 0., 0., 0., 0., 0., 0., 0., 0.,\n",
       "        0., 0., 1., 2., 3., 0., 0., 0., 4., 5., 6., 0., 0., 0., 7., 8.,\n",
       "        9., 0., 0., 0.],\n",
       "       [0., 0., 0., 0., 0., 0., 0., 0., 0., 0., 0., 0., 0., 0., 0., 0.,\n",
       "        0., 0., 0., 1., 2., 3., 0., 0., 0., 4., 5., 6., 0., 0., 0., 7.,\n",
       "        8., 9., 0., 0.],\n",
       "       [0., 0., 0., 0., 0., 0., 0., 0., 0., 0., 0., 0., 0., 0., 0., 0.,\n",
       "        0., 0., 0., 0., 1., 2., 3., 0., 0., 0., 4., 5., 6., 0., 0., 0.,\n",
       "        7., 8., 9., 0.],\n",
       "       [0., 0., 0., 0., 0., 0., 0., 0., 0., 0., 0., 0., 0., 0., 0., 0.,\n",
       "        0., 0., 0., 0., 0., 1., 2., 3., 0., 0., 0., 4., 5., 6., 0., 0.,\n",
       "        0., 7., 8., 9.]])"
      ]
     },
     "execution_count": 93,
     "metadata": {},
     "output_type": "execute_result"
    }
   ],
   "source": [
    "weights_conv"
   ]
  },
  {
   "cell_type": "code",
   "execution_count": null,
   "id": "37d16739",
   "metadata": {},
   "outputs": [],
   "source": []
  }
 ],
 "metadata": {
  "kernelspec": {
   "display_name": "Python 3",
   "language": "python",
   "name": "python3"
  },
  "language_info": {
   "codemirror_mode": {
    "name": "ipython",
    "version": 3
   },
   "file_extension": ".py",
   "mimetype": "text/x-python",
   "name": "python",
   "nbconvert_exporter": "python",
   "pygments_lexer": "ipython3",
   "version": "3.8.10"
  }
 },
 "nbformat": 4,
 "nbformat_minor": 5
}
